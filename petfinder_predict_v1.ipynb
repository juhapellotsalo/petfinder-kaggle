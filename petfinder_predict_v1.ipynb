{
 "cells": [
  {
   "cell_type": "code",
   "execution_count": 1,
   "metadata": {},
   "outputs": [],
   "source": [
    "import pandas as pd\n",
    "import numpy as np\n",
    "from sklearn.model_selection import GridSearchCV\n",
    "from sklearn.metrics import cohen_kappa_score"
   ]
  },
  {
   "cell_type": "code",
   "execution_count": 2,
   "metadata": {},
   "outputs": [],
   "source": [
    "# Load the data\n",
    "train_randf = pd.read_csv('train.csv')\n",
    "test_randf = pd.read_csv('test.csv')\n",
    "\n",
    "# Prep the train and test sets for model fitting\n",
    "train_x = train_randf.drop(['Name', 'Description', 'RescuerID', 'PetID', 'AdoptionSpeed'], axis=1)\n",
    "train_y = train_randf['AdoptionSpeed']\n",
    "test_x = test_randf.drop(['Name', 'Description', 'RescuerID', 'PetID'], axis=1)\n"
   ]
  },
  {
   "cell_type": "markdown",
   "metadata": {},
   "source": [
    "### Decision Tree"
   ]
  },
  {
   "cell_type": "code",
   "execution_count": 3,
   "metadata": {},
   "outputs": [
    {
     "name": "stdout",
     "output_type": "stream",
     "text": [
      "Fitting 5 folds for each of 80 candidates, totalling 400 fits\n"
     ]
    },
    {
     "name": "stderr",
     "output_type": "stream",
     "text": [
      "[Parallel(n_jobs=-1)]: Using backend LokyBackend with 4 concurrent workers.\n",
      "[Parallel(n_jobs=-1)]: Done  59 tasks      | elapsed:    4.2s\n",
      "[Parallel(n_jobs=-1)]: Done 400 out of 400 | elapsed:   10.3s finished\n"
     ]
    },
    {
     "data": {
      "text/plain": [
       "GridSearchCV(cv=5, error_score='raise-deprecating',\n",
       "       estimator=DecisionTreeClassifier(class_weight=None, criterion='gini', max_depth=None,\n",
       "            max_features=None, max_leaf_nodes=None,\n",
       "            min_impurity_decrease=0.0, min_impurity_split=None,\n",
       "            min_samples_leaf=1, min_samples_split=2,\n",
       "            min_weight_fraction_leaf=0.0, presort=False, random_state=None,\n",
       "            splitter='best'),\n",
       "       fit_params=None, iid='warn', n_jobs=-1,\n",
       "       param_grid={'criterion': ['gini', 'entropy'], 'max_features': array([15, 16, 17, 18]), 'max_depth': [6, 7], 'min_samples_split': array([150, 160, 170, 180, 190])},\n",
       "       pre_dispatch='2*n_jobs', refit=True, return_train_score='warn',\n",
       "       scoring=None, verbose=True)"
      ]
     },
     "execution_count": 3,
     "metadata": {},
     "output_type": "execute_result"
    }
   ],
   "source": [
    "from sklearn.tree import DecisionTreeClassifier\n",
    "\n",
    "tree_clf = DecisionTreeClassifier()\n",
    "tree_clf_params = {\n",
    "    'criterion' : ['gini','entropy'],\n",
    "    'max_features' : np.arange(15,19,1),\n",
    "    'max_depth' : [6,7],\n",
    "    'min_samples_split' : np.arange(150,200,10),\n",
    "}\n",
    "tree_gs = GridSearchCV(estimator=tree_clf,\n",
    "                       param_grid=tree_clf_params,\n",
    "                       n_jobs=-1, \n",
    "                       cv=5, \n",
    "                       verbose=True)\n",
    "\n",
    "tree_gs.fit(train_x,train_y)"
   ]
  },
  {
   "cell_type": "code",
   "execution_count": 4,
   "metadata": {},
   "outputs": [
    {
     "data": {
      "text/plain": [
       "{'criterion': 'gini',\n",
       " 'max_depth': 7,\n",
       " 'max_features': 17,\n",
       " 'min_samples_split': 190}"
      ]
     },
     "execution_count": 4,
     "metadata": {},
     "output_type": "execute_result"
    }
   ],
   "source": [
    "tree_gs.best_params_"
   ]
  },
  {
   "cell_type": "markdown",
   "metadata": {},
   "source": [
    "### Random Forest"
   ]
  },
  {
   "cell_type": "code",
   "execution_count": 5,
   "metadata": {},
   "outputs": [],
   "source": [
    "from sklearn.ensemble import RandomForestClassifier\n"
   ]
  },
  {
   "cell_type": "code",
   "execution_count": 6,
   "metadata": {},
   "outputs": [
    {
     "name": "stderr",
     "output_type": "stream",
     "text": [
      "/anaconda3/envs/py36/lib/python3.6/site-packages/sklearn/model_selection/_split.py:2053: FutureWarning: You should specify a value for 'cv' instead of relying on the default value. The default value will change from 3 to 5 in version 0.22.\n",
      "  warnings.warn(CV_WARNING, FutureWarning)\n",
      "[Parallel(n_jobs=1)]: Using backend SequentialBackend with 1 concurrent workers.\n"
     ]
    },
    {
     "name": "stdout",
     "output_type": "stream",
     "text": [
      "Fitting 3 folds for each of 1 candidates, totalling 3 fits\n"
     ]
    },
    {
     "name": "stderr",
     "output_type": "stream",
     "text": [
      "[Parallel(n_jobs=1)]: Done   3 out of   3 | elapsed:   12.8s finished\n"
     ]
    },
    {
     "name": "stdout",
     "output_type": "stream",
     "text": [
      "CPU times: user 18 s, sys: 195 ms, total: 18.2 s\n",
      "Wall time: 18.5 s\n"
     ]
    }
   ],
   "source": [
    "%%time\n",
    "rnd_clf = RandomForestClassifier(bootstrap=True, n_estimators=500, max_depth=50)\n",
    "#rnd_clf_params = {\n",
    "#    'bootstrap': [True],\n",
    "#    'max_depth': [75, 80],\n",
    "#    'max_features': ['auto'],\n",
    "#    'min_samples_leaf': [20, 25]\n",
    "#}\n",
    "\n",
    "# Pre-calculated params\n",
    "rnd_clf_params_calculated = {'bootstrap': [True],\n",
    " 'max_depth': [80],\n",
    " 'max_features': ['auto'],\n",
    " 'min_samples_leaf': [20]} \n",
    "\n",
    "# Use the pre-calculated params to run the notebook faster\n",
    "rnd_gs = GridSearchCV(rnd_clf,rnd_clf_params_calculated, verbose=True)\n",
    "rnd_gs.fit(train_x,train_y)"
   ]
  },
  {
   "cell_type": "code",
   "execution_count": 7,
   "metadata": {},
   "outputs": [
    {
     "data": {
      "text/plain": [
       "{'bootstrap': True,\n",
       " 'max_depth': 80,\n",
       " 'max_features': 'auto',\n",
       " 'min_samples_leaf': 20}"
      ]
     },
     "execution_count": 7,
     "metadata": {},
     "output_type": "execute_result"
    }
   ],
   "source": [
    "rnd_gs.best_params_"
   ]
  },
  {
   "cell_type": "markdown",
   "metadata": {},
   "source": [
    "### AdaBoost classifier"
   ]
  },
  {
   "cell_type": "code",
   "execution_count": 8,
   "metadata": {},
   "outputs": [],
   "source": [
    "from sklearn.ensemble import AdaBoostClassifier\n",
    "\n",
    "ada_clf = AdaBoostClassifier()\n",
    "ada_clf_params = {\n",
    "    'n_estimators' : [100,110,120],\n",
    "    'learning_rate' : [0.2,0.5,0.8]\n",
    "}\n",
    "\n",
    "ada_gs = GridSearchCV(ada_clf, ada_clf_params, verbose=True)\n",
    "ada_gs.fit(train_x, train_y)"
   ]
  },
  {
   "cell_type": "code",
   "execution_count": 9,
   "metadata": {},
   "outputs": [],
   "source": [
    "ada_gs.best_params_"
   ]
  },
  {
   "cell_type": "markdown",
   "metadata": {},
   "source": [
    "### Quadratic Weighted Kappa Score\n",
    "Sci-kit learn's cohen kappa calculates QWKS when the 'weights' are set to 'quadratic'.<br>\n",
    "-1 is the least possible score and 1 the best possible. The random forest score is far higher than the others and it's almost certainly overfitting."
   ]
  },
  {
   "cell_type": "code",
   "execution_count": 10,
   "metadata": {},
   "outputs": [],
   "source": [
    "#ree_score = cohen_kappa_score(tree_gs.predict(train_x), train_y, weights='quadratic')\n",
    "#rnd_score = cohen_kappa_score(rnd_gs.predict(train_x), train_y, weights='quadratic')\n",
    "#rnd_score = cohen_kappa_score(rnd_clf.predict(X_test2), y_test2, weights='quadratic')\n",
    "#ada_score = cohen_kappa_score(ada_gs.predict(train_x), train_y, weights='quadratic')\n",
    "\n",
    "#print('Decision tree score:', tree_score)\n",
    "#print('Random forest score:', rnd_score)\n",
    "#print('Ada boost score,', ada_score)"
   ]
  },
  {
   "cell_type": "markdown",
   "metadata": {},
   "source": []
  },
  {
   "cell_type": "code",
   "execution_count": 25,
   "metadata": {},
   "outputs": [],
   "source": [
    "final_preds = rnd_gs.predict(test_x)\n",
    "test_orig = pd.read_csv('test.csv')\n",
    "subm_df = pd.DataFrame({\n",
    "    'PetID' : test_orig['PetID'],\n",
    "    'AdoptionSpeed' : final_preds})"
   ]
  },
  {
   "cell_type": "code",
   "execution_count": null,
   "metadata": {},
   "outputs": [],
   "source": [
    "subm_df['AdoptionSpeed'] = subm_df['AdoptionSpeed'].astype('int32');\n",
    "subm_df.to_csv(\"submission.csv\", index=False)"
   ]
  },
  {
   "cell_type": "code",
   "execution_count": null,
   "metadata": {},
   "outputs": [],
   "source": []
  }
 ],
 "metadata": {
  "kernelspec": {
   "display_name": "Python 3",
   "language": "python",
   "name": "python3"
  },
  "language_info": {
   "codemirror_mode": {
    "name": "ipython",
    "version": 3
   },
   "file_extension": ".py",
   "mimetype": "text/x-python",
   "name": "python",
   "nbconvert_exporter": "python",
   "pygments_lexer": "ipython3",
   "version": "3.6.7"
  }
 },
 "nbformat": 4,
 "nbformat_minor": 2
}
