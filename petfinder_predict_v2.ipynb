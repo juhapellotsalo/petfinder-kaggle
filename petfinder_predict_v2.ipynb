{
 "cells": [
  {
   "cell_type": "code",
   "execution_count": 9,
   "metadata": {},
   "outputs": [],
   "source": [
    "import pandas as pd\n",
    "import numpy as np\n",
    "from sklearn.model_selection import GridSearchCV\n",
    "from sklearn.metrics import cohen_kappa_score\n",
    "from sklearn.model_selection import train_test_split"
   ]
  },
  {
   "cell_type": "code",
   "execution_count": 33,
   "metadata": {},
   "outputs": [],
   "source": [
    "# Load the data\n",
    "train = pd.read_csv('train.csv')\n",
    "test = pd.read_csv('test.csv')\n",
    "\n",
    "# Prep the train and test sets for model fitting\n",
    "train_x = train.drop(['Name', 'Description', 'RescuerID', 'PetID', 'AdoptionSpeed'], axis=1)\n",
    "train_y = train['AdoptionSpeed']\n",
    "test_x = test.drop(['Name', 'Description', 'RescuerID', 'PetID'], axis=1)\n",
    "\n",
    "X_train2, X_cross, y_train2, y_cross = train_test_split(train_x, train_y, test_size=0.28, random_state=42)"
   ]
  },
  {
   "cell_type": "markdown",
   "metadata": {},
   "source": [
    "### Random Forest"
   ]
  },
  {
   "cell_type": "code",
   "execution_count": 11,
   "metadata": {},
   "outputs": [],
   "source": [
    "from sklearn.ensemble import RandomForestClassifier\n"
   ]
  },
  {
   "cell_type": "code",
   "execution_count": 31,
   "metadata": {},
   "outputs": [
    {
     "name": "stdout",
     "output_type": "stream",
     "text": [
      "CPU times: user 2.85 s, sys: 6.88 ms, total: 2.85 s\n",
      "Wall time: 2.85 s\n"
     ]
    }
   ],
   "source": [
    "%%time\n",
    "#rnd_clf = RandomForestClassifier(bootstrap=True, n_estimators=500, max_depth=50)\n",
    "#rnd_clf_params = {\n",
    "#    'bootstrap': [True],\n",
    "#    'max_depth': [75, 80],\n",
    "#    'max_features': ['auto'],\n",
    "#    'min_samples_leaf': [20, 25]\n",
    "#}\n",
    "\n",
    "# Pre-calculated params\n",
    "#rnd_clf_params_calculated = {'bootstrap': [True],\n",
    "# 'max_depth': [80],\n",
    "# 'max_features': ['auto'],\n",
    "# 'min_samples_leaf': [20]} \n",
    "\n",
    "# Use the pre-calculated params to run the notebook faster\n",
    "#rnd_gs = GridSearchCV(rnd_clf,rnd_clf_params_calculated, verbose=True)\n",
    "#rnd_gs.fit(train_x,train_y)\n",
    "\n",
    "rnd_clf = RandomForestClassifier(bootstrap=True, \n",
    "                                 n_estimators=500, \n",
    "                                 max_depth=75,\n",
    "                                 max_features='auto',\n",
    "                                 min_samples_split=5,\n",
    "                                 min_samples_leaf=20)\n",
    "rnd_clf.fit(X_train2, y_train2)"
   ]
  },
  {
   "cell_type": "markdown",
   "metadata": {},
   "source": [
    "### Quadratic Weighted Kappa Score\n",
    "Sci-kit learn's cohen kappa calculates QWKS when the 'weights' are set to 'quadratic'.<br>\n",
    "-1 is the least possible score and 1 the best possible. The random forest score is far higher than the others and it's almost certainly overfitting."
   ]
  },
  {
   "cell_type": "code",
   "execution_count": 32,
   "metadata": {},
   "outputs": [
    {
     "name": "stdout",
     "output_type": "stream",
     "text": [
      "Random forest score: 0.3620303608994654\n"
     ]
    }
   ],
   "source": [
    "rnd_score = cohen_kappa_score(rnd_clf.predict(X_cross), y_cross, weights='quadratic')\n",
    "\n",
    "print('Random forest score:', rnd_score)"
   ]
  },
  {
   "cell_type": "markdown",
   "metadata": {},
   "source": []
  },
  {
   "cell_type": "code",
   "execution_count": 45,
   "metadata": {},
   "outputs": [],
   "source": [
    "final_preds = rnd_clf.predict(test_x)\n",
    "test_orig = pd.read_csv('test.csv')\n",
    "subm_df = pd.DataFrame({\n",
    "    'PetID' : test_orig['PetID'],\n",
    "    'AdoptionSpeed' : final_preds})"
   ]
  },
  {
   "cell_type": "code",
   "execution_count": 46,
   "metadata": {},
   "outputs": [],
   "source": [
    "subm_df['AdoptionSpeed'] = subm_df['AdoptionSpeed'].astype('int32');\n",
    "subm_df.to_csv(\"submission.csv\", index=False)"
   ]
  },
  {
   "cell_type": "code",
   "execution_count": null,
   "metadata": {},
   "outputs": [],
   "source": []
  }
 ],
 "metadata": {
  "kernelspec": {
   "display_name": "Python 3",
   "language": "python",
   "name": "python3"
  },
  "language_info": {
   "codemirror_mode": {
    "name": "ipython",
    "version": 3
   },
   "file_extension": ".py",
   "mimetype": "text/x-python",
   "name": "python",
   "nbconvert_exporter": "python",
   "pygments_lexer": "ipython3",
   "version": "3.6.7"
  }
 },
 "nbformat": 4,
 "nbformat_minor": 2
}
